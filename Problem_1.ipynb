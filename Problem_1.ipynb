{
 "cells": [
  {
   "cell_type": "code",
   "execution_count": 1,
   "metadata": {},
   "outputs": [
    {
     "name": "stdout",
     "output_type": "stream",
     "text": [
      "Enter text: hello\n",
      "The length of the string should be between 10 and 10000. \n",
      " PLease Renter the string: The tiger (Panthera tigris) is the largest extant cat species and a member of the genus Panthera. It is most recognisable for its dark vertical stripes on orange-brown fur with a lighter underside. It is an apex predator, primarily preying on ungulates such as deer and wild boar. It is territorial and generally a solitary but social predator, requiring large contiguous areas of habitat, which support its requirements for prey and rearing of its offspring. Tiger cubs stay with their mother for about two years, before they become independent and leave their mother's home range to establish their own.\n",
      "The tiger (Panthera tigris) is the largest extant cat species and a member of the genus Panthera. It is most recognisable for its dark vertical stripes on orange-brown fur with a lighter underside. It is an apex predator, primarily preying on ungulates such as deer and wild boar. It is territorial and generally a solitary but social predator, requiring large contiguous areas of habitat, which support its requirements for prey and rearing of its offspring. Tiger cubs stay with their mother for about two years, before they become independent and leave their mother's home range to establish their own.\n"
     ]
    }
   ],
   "source": [
    "prompt=\"Enter text: \"\n",
    "\n",
    "while True:\n",
    "    try:\n",
    "        input_str=input(prompt)\n",
    "        length=len(input_str)\n",
    "    except ValueError:\n",
    "        continue\n",
    "    \n",
    "    if length<10 or length>10000:\n",
    "        prompt=\"The length of the string should be between 10 and 10000. \\n PLease Renter the string: \"\n",
    "    else:\n",
    "        break        \n",
    "\n",
    "print(input_str)"
   ]
  },
  {
   "cell_type": "code",
   "execution_count": 3,
   "metadata": {},
   "outputs": [
    {
     "name": "stdout",
     "output_type": "stream",
     "text": [
      "Enter the number of elements for Validation_array: 10044\n",
      "Size of Validation_array should not be greater then 1000. \n",
      " Please Renter the number: 5\n",
      "Enter element: tiger\n",
      "Enter element: is\n",
      "Enter element: am\n",
      "Enter element: are\n",
      "Enter element: bat\n",
      "['tiger', 'is', 'am', 'are', 'bat']\n"
     ]
    }
   ],
   "source": [
    "Validation_array=[]\n",
    "prompt=\"Enter the number of elements for Validation_array: \"\n",
    "while True:\n",
    "    try:\n",
    "        no_ele=int(input(prompt))\n",
    "    except ValueError:\n",
    "        continue\n",
    "    \n",
    "    if no_ele>1000:\n",
    "        prompt=\"Size of Validation_array should not be greater then 1000. \\n Please Renter the number: \"\n",
    "    elif no_ele<=0:\n",
    "         prompt=\"Size of Validation_array should be greater then 0. \\n Please Renter the number: \"\n",
    "    else:\n",
    "        break        \n",
    "\n",
    "for i in range(no_ele):\n",
    "    element=input(\"Enter element: \")\n",
    "    Validation_array.append(element)\n",
    "print(Validation_array)"
   ]
  },
  {
   "cell_type": "code",
   "execution_count": 4,
   "metadata": {},
   "outputs": [
    {
     "name": "stdout",
     "output_type": "stream",
     "text": [
      "tiger: 1\n",
      "is: 7\n",
      "am: 0\n",
      "are: 1\n",
      "bat: 0\n"
     ]
    }
   ],
   "source": [
    "for i in range(no_ele):\n",
    "    print(Validation_array[i]+ \": \" +str(input_str.count(Validation_array[i])))"
   ]
  },
  {
   "cell_type": "code",
   "execution_count": null,
   "metadata": {},
   "outputs": [],
   "source": []
  }
 ],
 "metadata": {
  "kernelspec": {
   "display_name": "Python 3",
   "language": "python",
   "name": "python3"
  },
  "language_info": {
   "codemirror_mode": {
    "name": "ipython",
    "version": 3
   },
   "file_extension": ".py",
   "mimetype": "text/x-python",
   "name": "python",
   "nbconvert_exporter": "python",
   "pygments_lexer": "ipython3",
   "version": "3.7.7"
  }
 },
 "nbformat": 4,
 "nbformat_minor": 4
}
